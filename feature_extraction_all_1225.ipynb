{
 "cells": [
  {
   "cell_type": "markdown",
   "metadata": {},
   "source": [
    "到目前为止，最终提取了总共2150维特征。\n",
    "1.amino_acid：20维。20种氨基酸在序列中出现的频率。\n",
    "2.local-DPP：120维。基于PSSM提出的一种能够保留局部PSSM特性的120维特征。\n",
    "3.PSSM-DT：2000维。基于PSSM的在ACC思想上进行的变种，分为SDT（100维），DDT（1900维）。\n",
    "4.amino_acid_top10:10维。根据论文结果统计的特性占比在前十位的两个氨基酸组合。\n",
    "在各种分类算法对比下，准确率最高的是GradientBoost，达到83.886%。"
   ]
  },
  {
   "cell_type": "markdown",
   "metadata": {},
   "source": [
    "1.提取20种氨基酸在序列中出现的频率\n",
    "  输入文件名，得到相应的特征值。\n",
    "  输出文件feature_amino_acid_freq.csv，20维的特征向量值。"
   ]
  },
  {
   "cell_type": "code",
   "execution_count": 3,
   "metadata": {
    "collapsed": true
   },
   "outputs": [],
   "source": [
    "from numpy import random\n",
    "file=\"data/temp_test.txt\"\n",
    "def load_data(filename):\n",
    "    returnval = []\n",
    "    with open(filename) as file1:\n",
    "        content2 = file1.read().replace(\"\\n\", \" \").split(\">\")\n",
    "        content = [a.split(\" \", 1) for a in content2]\n",
    "        for a in content[1:]:\n",
    "            if a != \"\" and a!= [\"\"] and a != []:\n",
    "                returnval.append([a[0], a[1].replace(\" \", \"\")])\n",
    "    return returnval\n",
    "dataset = load_data(file)\n",
    "amino_acid=\"ARNDCQEGHILKMFPSTWYV\"\n",
    "def get_amino_acid_frequencies(seq):\n",
    "    return [ seq.count(base)/len(seq)\n",
    "        for base in amino_acid]\n",
    "import csv\n",
    "for data in dataset:\n",
    "    frequencies = get_amino_acid_frequencies(data[1])\n",
    "    with open(\"final1225/1_feature_amino_acid_freq.csv\",\"a+\",newline='') as file:\n",
    "        writer = csv.writer(file)\n",
    "        writer.writerow(frequencies)"
   ]
  },
  {
   "cell_type": "code",
   "execution_count": null,
   "metadata": {
    "collapsed": true
   },
   "outputs": [],
   "source": [
    "2.提取基于PSSM提出的一种能够保留局部PSSM特性的120维特征。\n",
    "  输入文件为PSSM矩阵\n",
    "    输出文件2_feature_LocalDPP.csv，120维的特征向量值"
   ]
  },
  {
   "cell_type": "code",
   "execution_count": 1,
   "metadata": {
    "collapsed": true
   },
   "outputs": [],
   "source": [
    "import scipy.io as sio\n",
    "import numpy as np\n",
    "import pandas as pd\n",
    "import csv\n",
    "pssm_file=\"PSSM/protein_neg.mat\"\n",
    "load_data = sio.loadmat(pssm_file)\n",
    "#print (load_data)\n",
    "n=3\n",
    "lamd=1\n",
    "for pssm in load_data['train_pssm'][0]:\n",
    "    # get the submatrix \n",
    "    L = len(pssm)\n",
    "    length=int(L/n)\n",
    "    # the length of L1 and L2\n",
    "    if(L%n==0):\n",
    "        L1=L2=length\n",
    "    else:\n",
    "        L1=length\n",
    "        L2=L-L1*(n-1)\n",
    "    #print('L,L1,L2',L,L1,L2)\n",
    "    # get the first block of feautre F\n",
    "    feature1=[]\n",
    "    for k in range(1,n):\n",
    "        temp_fea=[]\n",
    "        for j in range(0,20):\n",
    "            temp=0\n",
    "            for i in range((k-1)*L1,k*L1):\n",
    "                temp+=pssm[i][j]\n",
    "            temp_=temp/L1\n",
    "            temp_fea.append(temp_)\n",
    "        feature1.extend(temp_fea)\n",
    "    #print('feature1......',feature1)\n",
    "    #print('len(feature1):',len(feature1)) #20\n",
    "    feature2=[]\n",
    "    for k in range(1,n):\n",
    "        for lam in range(1,lamd+1):\n",
    "            temp_fea=[]\n",
    "            for j in range(0,20):\n",
    "                temp=0\n",
    "                for i in range((k-1)*L1,k*L1-lam):\n",
    "                    temp+=(pssm[i][j]-pssm[i+lam][j])**2\n",
    "                temp_=temp/(L1-lam)\n",
    "                temp_fea.append(temp_)\n",
    "            feature2.extend(temp_fea)\n",
    "    #print('feature2......',feature2)\n",
    "    #print('len(feature2):',len(feature2)) #40\n",
    "    feature1_n=[]\n",
    "    for j in range(0,20):\n",
    "        temp=0\n",
    "        for i in range((n-1)*L1,(n-1)*L1+L2):\n",
    "            temp+=pssm[i][j]\n",
    "        temp_=temp/L2\n",
    "        feature1_n.append(temp_)\n",
    "    #print ('feature1_n......',feature1_n)\n",
    "    #print ('len(feature1_n):',len(feature1_n)) #20\n",
    "    feature2_n=[]\n",
    "    for lam in range(1,lamd+1):\n",
    "        for j in range(0,20):\n",
    "            temp=0\n",
    "            for i in range((n-1)*L1,(n-1)*L1+L2-lam):\n",
    "                temp+=(pssm[i][j]-pssm[i+lam][j])**2\n",
    "            temp_=temp/(L2-lam)\n",
    "            feature2_n.append(temp_)\n",
    "    #print('feature2_n......',feature2_n)\n",
    "    #print('len(feature2_n):',len(feature2_n)) # 40      \n",
    "    # get all features\n",
    "    feature=[]\n",
    "    feature.extend(feature1) # 40 \n",
    "    feature.extend(feature2) # 40\n",
    "    feature.extend(feature1_n) # 20\n",
    "    feature.extend(feature2_n) # 20\n",
    "    #print('feature......',feature) \n",
    "    #print(len(feature)) # 120\n",
    "    with open(\"final1225/2_feature_LocalDPP.csv\",\"a+\",newline='') as csvfile:\n",
    "        writer = csv.writer(csvfile)\n",
    "        writer.writerow(feature)"
   ]
  },
  {
   "cell_type": "code",
   "execution_count": null,
   "metadata": {
    "collapsed": true
   },
   "outputs": [],
   "source": [
    "3.提取PSSM-DT，基于PSSM的在ACC思想上进行的变种，分为SDT（100维），DDT（1900维）。\n",
    "  输入为PSSM矩阵文件\n",
    "    输出为"
   ]
  },
  {
   "cell_type": "code",
   "execution_count": 2,
   "metadata": {
    "collapsed": true
   },
   "outputs": [],
   "source": [
    "import scipy.io as sio\n",
    "import numpy as np\n",
    "pssm_file = 'PSSM/protein_neg.mat'\n",
    "load_data = sio.loadmat(pssm_file)\n",
    "for pssm in load_data['train_pssm'][0]:\n",
    "    L = len(pssm)\n",
    "    LG = 5\n",
    "    SDT=[]\n",
    "    for lg in range(1,LG+1):\n",
    "        SDT_lg=[]\n",
    "        for i in range(0,20):\n",
    "            temp=0\n",
    "            for j in range(0,L-lg):\n",
    "                temp+=pssm[j][i]*pssm[j+lg][i]\n",
    "            temp=temp/(L-lg)\n",
    "            SDT_lg.append(temp)\n",
    "        SDT.extend(SDT_lg)\n",
    "    with open(\"final1225/3_feature_PSSMDT_SDT_neg.csv\",\"a+\",newline='') as csvfile:\n",
    "        writer = csv.writer(csvfile)\n",
    "        writer.writerow(SDT)\n",
    "for pssm in load_data['train_pssm'][0]:\n",
    "    L = len(pssm)\n",
    "    LG = 5\n",
    "    DDT=[]\n",
    "    for lg in range(1,LG+1):\n",
    "        DDT_lg=[]\n",
    "        temp=0\n",
    "        for i1 in range(0,20):\n",
    "            for i2 in range(0,20):\n",
    "                if i1==i2:\n",
    "                    continue\n",
    "                for j in range(0,L-lg):\n",
    "                    temp+=pssm[j][i1]*pssm[j+lg][i2]\n",
    "                temp=temp/(L-lg)\n",
    "                DDT_lg.append(temp)\n",
    "        DDT.extend(DDT_lg)\n",
    "    with open(\"final1225/3_feature_PSSMDT_DDT_neg.csv\",\"a+\",newline='') as csvfile:\n",
    "        writer = csv.writer(csvfile)\n",
    "        writer.writerow(DDT)"
   ]
  },
  {
   "cell_type": "code",
   "execution_count": null,
   "metadata": {
    "collapsed": true
   },
   "outputs": [],
   "source": [
    "4.提取amino_acid_top10，根据论文结果统计的特性占比在前十位的两个氨基酸组合。\n",
    "     输入文件名，得到相应的特征值。\n",
    "      输出文件4_feature_amino_acid_top_10.csv，20维的特征向量值。"
   ]
  },
  {
   "cell_type": "code",
   "execution_count": 3,
   "metadata": {
    "collapsed": true
   },
   "outputs": [],
   "source": [
    "file=\"data/temp_test.txt\"\n",
    "amino_acid_10=[\"KR\",\"LV\",\"RK\",\"GA\",\"VL\",\"AG\",\"AV\",\"EK\",\"GD\",\"AL\"]\n",
    "def load_data(filename):\n",
    "    returnval = []\n",
    "    with open(filename) as file1:\n",
    "        content2 = file1.read().replace(\"\\n\", \" \").split(\">\")\n",
    "        content = [a.split(\" \", 1) for a in content2]\n",
    "        for a in content[1:]:\n",
    "            if a != \"\" and a!= [\"\"] and a != []:\n",
    "                returnval.append([a[0], a[1].replace(\" \", \"\")])\n",
    "    return returnval\n",
    "dataset = load_data(file)\n",
    "import re\n",
    "def get_amino_acid_frequencies_top_10(seq):\n",
    "    res = []\n",
    "    for base in amino_acid_10:\n",
    "        reg = re.compile(\"(?=\"+base+\")\")\n",
    "        length = len(reg.findall(seq))\n",
    "        res.append(length/(len(seq)))\n",
    "    return res\n",
    "import csv\n",
    "for data in dataset:\n",
    "    frequencies = get_amino_acid_frequencies_top_10(data[1])\n",
    "    with open(\"final1225/4_feature_amino_acid_freq_top_10_2.csv\",\"a+\",newline='') as file:\n",
    "        writer = csv.writer(file)\n",
    "        writer.writerow(frequencies)"
   ]
  },
  {
   "cell_type": "markdown",
   "metadata": {},
   "source": [
    "加载特征数据，进行十折交叉验证\n",
    "测试模型，得到准确率较高的为gdbt模型"
   ]
  },
  {
   "cell_type": "code",
   "execution_count": 1,
   "metadata": {},
   "outputs": [
    {
     "name": "stdout",
     "output_type": "stream",
     "text": [
      "gradient_boosting...\n",
      "The accuracy of GradientBoosting:\n",
      "0.83792834891\n"
     ]
    }
   ],
   "source": [
    "import codecs\n",
    "from itertools import *\n",
    "import numpy as np\n",
    "from sklearn import model_selection\n",
    "from sklearn.model_selection import train_test_split\n",
    "from sklearn.ensemble import GradientBoostingClassifier\n",
    "import pylab as pl\n",
    "from sklearn.externals import joblib\n",
    "def load_data(filename):\n",
    "    file = codecs.open(filename,'r','utf-8')\n",
    "    data = []\n",
    "    label = []\n",
    "    for line in islice(file,0,None):\n",
    "        line = line.strip().split(',')\n",
    "        #print (\"reading data....\")\n",
    "        data.append([float(i) for i in line[1:-1]])\n",
    "        label.append(line[-1])\n",
    "    x = np.array(data)\n",
    "    y = np.array(label)\n",
    "    return x,y\n",
    "def gradient_boosting(x_train,y_train):\n",
    "    print(\"gradient_boosting...\")     \n",
    "    clf = GradientBoostingClassifier()\n",
    "    score = model_selection.cross_val_score(clf,x_train,y_train,cv=10,scoring=\"accuracy\")\n",
    "    joblib.dump(clf,\"final1225/gbdt.model\")\n",
    "    # gdbt_model = joblib.load(\"gdbt.model\")\n",
    "    print ('The accuracy of GradientBoosting:')\n",
    "    print (np.mean(score))\n",
    "    x = [int(i) for i in range(1, 11)]\n",
    "    y = score\n",
    "    pl.ylabel(u'Accuracy')\n",
    "    pl.xlabel(u'times')\n",
    "    pl.plot(x, y,label='GBDT')\n",
    "    pl.legend()\n",
    "    pl.savefig(\"final1225/gradient_boosting.png\")\n",
    "def train_acc(filename):\n",
    "    x_train,y_train = load_data(filename)\n",
    "    \n",
    "    gradient_boosting(x_train,y_train)\n",
    "    \n",
    "train_acc(\"final1225/feature_all.csv\")"
   ]
  },
  {
   "cell_type": "markdown",
   "metadata": {},
   "source": [
    "模型持久化"
   ]
  },
  {
   "cell_type": "code",
   "execution_count": 8,
   "metadata": {},
   "outputs": [
    {
     "name": "stdout",
     "output_type": "stream",
     "text": [
      "['0' '0' '0' ..., '1' '1' '1']\n",
      "[ 0.02027522  0.02215514  0.04703768 ...,  0.69586436  0.9747948\n",
      "  0.83509215]\n"
     ]
    }
   ],
   "source": [
    "x,y = load_data(\"final1225/feature_all.csv\")\n",
    "gdbt = GradientBoostingClassifier(random_state=2017)\n",
    "gdbt.fit(x,y)\n",
    "joblib.dump(gdbt,\"final1225/gbdt.model\")\n",
    "y_pred = gdbt.predict(x)\n",
    "y_preprob = gdbt.predict_proba(x)[:,1]\n",
    "print (y_pred)  \n",
    "print (y_preprob)"
   ]
  },
  {
   "cell_type": "code",
   "execution_count": null,
   "metadata": {
    "collapsed": true
   },
   "outputs": [],
   "source": [
    "模型预测\n",
    "输入test_x为经过上述特征提取之后的2150维的特征值。\n",
    "输出y_pred为分类结果"
   ]
  },
  {
   "cell_type": "code",
   "execution_count": null,
   "metadata": {
    "collapsed": true
   },
   "outputs": [],
   "source": [
    "gdbt_model = joblib.load(\"final1225/gbdt.model\")\n",
    "y_pred = gdbt_model.predict(test_x)"
   ]
  }
 ],
 "metadata": {
  "kernelspec": {
   "display_name": "Python 3",
   "language": "python",
   "name": "python3"
  },
  "language_info": {
   "codemirror_mode": {
    "name": "ipython",
    "version": 3
   },
   "file_extension": ".py",
   "mimetype": "text/x-python",
   "name": "python",
   "nbconvert_exporter": "python",
   "pygments_lexer": "ipython3",
   "version": "3.6.2"
  }
 },
 "nbformat": 4,
 "nbformat_minor": 2
}
