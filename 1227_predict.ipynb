{
 "cells": [
  {
   "cell_type": "code",
   "execution_count": 1,
   "metadata": {},
   "outputs": [
    {
     "name": "stderr",
     "output_type": "stream",
     "text": [
      "D:\\Anaconda3\\lib\\site-packages\\sklearn\\cross_validation.py:41: DeprecationWarning: This module was deprecated in version 0.18 in favor of the model_selection module into which all the refactored classes and functions are moved. Also note that the interface of the new CV iterators are different from that of this module. This module will be removed in 0.20.\n",
      "  \"This module will be removed in 0.20.\", DeprecationWarning)\n"
     ]
    }
   ],
   "source": [
    "import codecs\n",
    "from itertools import *\n",
    "import numpy as np\n",
    "from sklearn import tree\n",
    "from sklearn import model_selection\n",
    "from sklearn.model_selection import train_test_split\n",
    "from sklearn.ensemble import GradientBoostingClassifier\n",
    "import xgboost as xgb\n",
    "from sklearn.ensemble import RandomForestClassifier\n",
    "import pylab as pl\n",
    "def load_data(filename):\n",
    "    file = codecs.open(filename,'r','utf-8')\n",
    "    data = []\n",
    "    label = []\n",
    "    for line in islice(file,0,None):\n",
    "        line = line.strip().split(',')\n",
    "        #print (\"reading data....\")\n",
    "        data.append([float(i) for i in line[1:-1]])\n",
    "        label.append(line[-1])\n",
    "    x = np.array(data)\n",
    "    y = np.array(label)\n",
    "    #print (x)\n",
    "    #print (y)\n",
    "    return x,y\n",
    "\n",
    "def gradient_boosting(x_train,y_train):\n",
    "    print(\"gradient_boosting...\")     \n",
    "    clf5 = GradientBoostingClassifier()\n",
    "    score5 = model_selection.cross_val_score(clf5,x_train,y_train,cv=10,scoring=\"accuracy\")\n",
    "    print ('The accuracy of GradientBoosting:')\n",
    "    print (np.mean(score5))\n",
    "    x = [int(i) for i in range(1, 11)]\n",
    "    y = score5\n",
    "    pl.ylabel(u'Accuracy')\n",
    "    pl.xlabel(u'times')\n",
    "    pl.plot(x, y,label='GBDT')\n",
    "    pl.legend()\n",
    "    #pl.savefig(\"picture/GBDT.png\")\n",
    "def xgb_boost(x_train,y_train):\n",
    "    print(\"xgboost....\")\n",
    "    clf = xgb.XGBClassifier()\n",
    "    score = model_selection.cross_val_score(clf,x_train,y_train,cv=10,scoring=\"accuracy\")\n",
    "    print ('The accuracy of XGBoosting:')\n",
    "    print (np.mean(score)) \n",
    "    x = [int(i) for i in range(1, 11)]\n",
    "    y = score\n",
    "    pl.ylabel(u'Accuracy')\n",
    "    pl.xlabel(u'times')\n",
    "    pl.plot(x, y,label='xgboost')\n",
    "    pl.legend()\n",
    "    #pl.savefig(\"picture/XGBoost.png\")\n",
    "def random_forest(x_train,y_train): \n",
    "    print(\"random_forest...\")        \n",
    "    clf = RandomForestClassifier(n_estimators=100)   \n",
    "    score = model_selection.cross_val_score(clf,x_train,y_train,cv=10,scoring=\"accuracy\")\n",
    "    print ('The accuracy of RandomForest:')\n",
    "    print (np.mean(score))\n",
    "    x = [int(i) for i in range(1, 11)]\n",
    "    y = score\n",
    "    pl.ylabel(u'Accuracy')\n",
    "    pl.xlabel(u'times')\n",
    "    pl.plot(x, y,label='RandForest')\n",
    "    pl.legend()\n",
    "    #pl.savefig(\"picture/RandomForest.png\")\n",
    "def train_acc(filename):\n",
    "    x_train,y_train = load_data(filename)\n",
    "    \n",
    "    gradient_boosting(x_train,y_train)\n",
    "    \n",
    "    xgb_boost(x_train,y_train)\n",
    "    \n",
    "    random_forest(x_train,y_train)"
   ]
  },
  {
   "cell_type": "code",
   "execution_count": 5,
   "metadata": {},
   "outputs": [
    {
     "data": {
      "text/plain": [
       "['test1227/gbdt.model']"
      ]
     },
     "execution_count": 5,
     "metadata": {},
     "output_type": "execute_result"
    }
   ],
   "source": [
    "from sklearn.externals import joblib\n",
    "x,y = load_data(\"test1227/train/feature_all.csv\")\n",
    "gdbt = GradientBoostingClassifier(random_state=2017)\n",
    "gdbt.fit(x,y)\n",
    "joblib.dump(gdbt,\"test1227/gbdt.model\")"
   ]
  },
  {
   "cell_type": "code",
   "execution_count": 7,
   "metadata": {
    "collapsed": true
   },
   "outputs": [],
   "source": [
    "import codecs\n",
    "from itertools import *\n",
    "import numpy as np\n",
    "def load_predict_data(filename):\n",
    "    file = codecs.open(filename,'r','utf-8')\n",
    "    data = []\n",
    "    for line in islice(file,0,None):\n",
    "        line = line.strip().split(',')\n",
    "        #print (\"reading data....\")\n",
    "        data.append([float(i) for i in line[1:]])\n",
    "    x = np.array(data)\n",
    "    return x"
   ]
  },
  {
   "cell_type": "code",
   "execution_count": 9,
   "metadata": {
    "collapsed": true
   },
   "outputs": [],
   "source": [
    "predict_x = load_predict_data(\"test1227/test/feature_all.csv\")\n",
    "gdbt_model = joblib.load(\"test1227/gbdt.model\")\n",
    "y_pred = gdbt_model.predict(predict_x)\n",
    "import csv\n",
    "for y in y_pred:\n",
    "    with open(\"test1227/result_gdbt.csv\",\"a+\",newline='') as file:\n",
    "        writer = csv.writer(file)\n",
    "        writer.writerow(y)"
   ]
  },
  {
   "cell_type": "code",
   "execution_count": 10,
   "metadata": {},
   "outputs": [
    {
     "data": {
      "text/plain": [
       "['test1227/xgb.model']"
      ]
     },
     "execution_count": 10,
     "metadata": {},
     "output_type": "execute_result"
    }
   ],
   "source": [
    "x,y = load_data(\"test1227/train/feature_all.csv\")\n",
    "xgb_model = xgb.XGBClassifier()\n",
    "xgb_model.fit(x,y)\n",
    "joblib.dump(xgb_model,\"test1227/xgb.model\")"
   ]
  },
  {
   "cell_type": "code",
   "execution_count": 11,
   "metadata": {
    "collapsed": true
   },
   "outputs": [],
   "source": [
    "predict_x = load_predict_data(\"test1227/test/feature_all.csv\")\n",
    "xgb_model = joblib.load(\"test1227/xgb.model\")\n",
    "y_pred = xgb_model.predict(predict_x)\n",
    "import csv\n",
    "for y in y_pred:\n",
    "    with open(\"test1227/result_xgb.csv\",\"a+\",newline='') as file:\n",
    "        writer = csv.writer(file)\n",
    "        writer.writerow(y)"
   ]
  },
  {
   "cell_type": "code",
   "execution_count": 12,
   "metadata": {},
   "outputs": [
    {
     "data": {
      "text/plain": [
       "['feature1227/rf.model']"
      ]
     },
     "execution_count": 12,
     "metadata": {},
     "output_type": "execute_result"
    }
   ],
   "source": [
    "from sklearn.externals import joblib\n",
    "x,y = load_data(\"feature1227/feature_all_1227.csv\")\n",
    "rf = RandomForestClassifier(n_estimators=100) \n",
    "rf.fit(x,y)\n",
    "joblib.dump(rf,\"feature1227/rf.model\")"
   ]
  },
  {
   "cell_type": "code",
   "execution_count": 13,
   "metadata": {},
   "outputs": [
    {
     "ename": "ValueError",
     "evalue": "Number of features of the model must match the input. Model n_features is 2540 and input n_features is 2150 ",
     "output_type": "error",
     "traceback": [
      "\u001b[1;31m---------------------------------------------------------------------------\u001b[0m",
      "\u001b[1;31mValueError\u001b[0m                                Traceback (most recent call last)",
      "\u001b[1;32m<ipython-input-13-2e40a2f92df8>\u001b[0m in \u001b[0;36m<module>\u001b[1;34m()\u001b[0m\n\u001b[0;32m      1\u001b[0m \u001b[0mpredict_x\u001b[0m \u001b[1;33m=\u001b[0m \u001b[0mload_predict_data\u001b[0m\u001b[1;33m(\u001b[0m\u001b[1;34m\"test1227/test/feature_all.csv\"\u001b[0m\u001b[1;33m)\u001b[0m\u001b[1;33m\u001b[0m\u001b[0m\n\u001b[0;32m      2\u001b[0m \u001b[0mrf_model\u001b[0m \u001b[1;33m=\u001b[0m \u001b[0mjoblib\u001b[0m\u001b[1;33m.\u001b[0m\u001b[0mload\u001b[0m\u001b[1;33m(\u001b[0m\u001b[1;34m\"feature1227/rf.model\"\u001b[0m\u001b[1;33m)\u001b[0m\u001b[1;33m\u001b[0m\u001b[0m\n\u001b[1;32m----> 3\u001b[1;33m \u001b[0my_pred\u001b[0m \u001b[1;33m=\u001b[0m \u001b[0mrf_model\u001b[0m\u001b[1;33m.\u001b[0m\u001b[0mpredict\u001b[0m\u001b[1;33m(\u001b[0m\u001b[0mpredict_x\u001b[0m\u001b[1;33m)\u001b[0m\u001b[1;33m\u001b[0m\u001b[0m\n\u001b[0m\u001b[0;32m      4\u001b[0m \u001b[1;32mimport\u001b[0m \u001b[0mcsv\u001b[0m\u001b[1;33m\u001b[0m\u001b[0m\n\u001b[0;32m      5\u001b[0m \u001b[1;32mfor\u001b[0m \u001b[0my\u001b[0m \u001b[1;32min\u001b[0m \u001b[0my_pred\u001b[0m\u001b[1;33m:\u001b[0m\u001b[1;33m\u001b[0m\u001b[0m\n",
      "\u001b[1;32mD:\\Anaconda3\\lib\\site-packages\\sklearn\\ensemble\\forest.py\u001b[0m in \u001b[0;36mpredict\u001b[1;34m(self, X)\u001b[0m\n\u001b[0;32m    534\u001b[0m             \u001b[0mThe\u001b[0m \u001b[0mpredicted\u001b[0m \u001b[0mclasses\u001b[0m\u001b[1;33m.\u001b[0m\u001b[1;33m\u001b[0m\u001b[0m\n\u001b[0;32m    535\u001b[0m         \"\"\"\n\u001b[1;32m--> 536\u001b[1;33m         \u001b[0mproba\u001b[0m \u001b[1;33m=\u001b[0m \u001b[0mself\u001b[0m\u001b[1;33m.\u001b[0m\u001b[0mpredict_proba\u001b[0m\u001b[1;33m(\u001b[0m\u001b[0mX\u001b[0m\u001b[1;33m)\u001b[0m\u001b[1;33m\u001b[0m\u001b[0m\n\u001b[0m\u001b[0;32m    537\u001b[0m \u001b[1;33m\u001b[0m\u001b[0m\n\u001b[0;32m    538\u001b[0m         \u001b[1;32mif\u001b[0m \u001b[0mself\u001b[0m\u001b[1;33m.\u001b[0m\u001b[0mn_outputs_\u001b[0m \u001b[1;33m==\u001b[0m \u001b[1;36m1\u001b[0m\u001b[1;33m:\u001b[0m\u001b[1;33m\u001b[0m\u001b[0m\n",
      "\u001b[1;32mD:\\Anaconda3\\lib\\site-packages\\sklearn\\ensemble\\forest.py\u001b[0m in \u001b[0;36mpredict_proba\u001b[1;34m(self, X)\u001b[0m\n\u001b[0;32m    574\u001b[0m         \u001b[0mcheck_is_fitted\u001b[0m\u001b[1;33m(\u001b[0m\u001b[0mself\u001b[0m\u001b[1;33m,\u001b[0m \u001b[1;34m'estimators_'\u001b[0m\u001b[1;33m)\u001b[0m\u001b[1;33m\u001b[0m\u001b[0m\n\u001b[0;32m    575\u001b[0m         \u001b[1;31m# Check data\u001b[0m\u001b[1;33m\u001b[0m\u001b[1;33m\u001b[0m\u001b[0m\n\u001b[1;32m--> 576\u001b[1;33m         \u001b[0mX\u001b[0m \u001b[1;33m=\u001b[0m \u001b[0mself\u001b[0m\u001b[1;33m.\u001b[0m\u001b[0m_validate_X_predict\u001b[0m\u001b[1;33m(\u001b[0m\u001b[0mX\u001b[0m\u001b[1;33m)\u001b[0m\u001b[1;33m\u001b[0m\u001b[0m\n\u001b[0m\u001b[0;32m    577\u001b[0m \u001b[1;33m\u001b[0m\u001b[0m\n\u001b[0;32m    578\u001b[0m         \u001b[1;31m# Assign chunk of trees to jobs\u001b[0m\u001b[1;33m\u001b[0m\u001b[1;33m\u001b[0m\u001b[0m\n",
      "\u001b[1;32mD:\\Anaconda3\\lib\\site-packages\\sklearn\\ensemble\\forest.py\u001b[0m in \u001b[0;36m_validate_X_predict\u001b[1;34m(self, X)\u001b[0m\n\u001b[0;32m    354\u001b[0m                                  \"call `fit` before exploiting the model.\")\n\u001b[0;32m    355\u001b[0m \u001b[1;33m\u001b[0m\u001b[0m\n\u001b[1;32m--> 356\u001b[1;33m         \u001b[1;32mreturn\u001b[0m \u001b[0mself\u001b[0m\u001b[1;33m.\u001b[0m\u001b[0mestimators_\u001b[0m\u001b[1;33m[\u001b[0m\u001b[1;36m0\u001b[0m\u001b[1;33m]\u001b[0m\u001b[1;33m.\u001b[0m\u001b[0m_validate_X_predict\u001b[0m\u001b[1;33m(\u001b[0m\u001b[0mX\u001b[0m\u001b[1;33m,\u001b[0m \u001b[0mcheck_input\u001b[0m\u001b[1;33m=\u001b[0m\u001b[1;32mTrue\u001b[0m\u001b[1;33m)\u001b[0m\u001b[1;33m\u001b[0m\u001b[0m\n\u001b[0m\u001b[0;32m    357\u001b[0m \u001b[1;33m\u001b[0m\u001b[0m\n\u001b[0;32m    358\u001b[0m     \u001b[1;33m@\u001b[0m\u001b[0mproperty\u001b[0m\u001b[1;33m\u001b[0m\u001b[0m\n",
      "\u001b[1;32mD:\\Anaconda3\\lib\\site-packages\\sklearn\\tree\\tree.py\u001b[0m in \u001b[0;36m_validate_X_predict\u001b[1;34m(self, X, check_input)\u001b[0m\n\u001b[0;32m    382\u001b[0m                              \u001b[1;34m\"match the input. Model n_features is %s and \"\u001b[0m\u001b[1;33m\u001b[0m\u001b[0m\n\u001b[0;32m    383\u001b[0m                              \u001b[1;34m\"input n_features is %s \"\u001b[0m\u001b[1;33m\u001b[0m\u001b[0m\n\u001b[1;32m--> 384\u001b[1;33m                              % (self.n_features_, n_features))\n\u001b[0m\u001b[0;32m    385\u001b[0m \u001b[1;33m\u001b[0m\u001b[0m\n\u001b[0;32m    386\u001b[0m         \u001b[1;32mreturn\u001b[0m \u001b[0mX\u001b[0m\u001b[1;33m\u001b[0m\u001b[0m\n",
      "\u001b[1;31mValueError\u001b[0m: Number of features of the model must match the input. Model n_features is 2540 and input n_features is 2150 "
     ]
    }
   ],
   "source": [
    "predict_x = load_predict_data(\"test1227/test/feature_all.csv\")\n",
    "rf_model = joblib.load(\"feature1227/rf.model\")\n",
    "y_pred = rf_model.predict(predict_x)\n",
    "import csv\n",
    "for y in y_pred:\n",
    "    with open(\"feature1227/result_rf.csv\",\"a+\",newline='') as file:\n",
    "        writer = csv.writer(file)\n",
    "        writer.writerow(y)"
   ]
  },
  {
   "cell_type": "code",
   "execution_count": null,
   "metadata": {
    "collapsed": true
   },
   "outputs": [],
   "source": []
  }
 ],
 "metadata": {
  "kernelspec": {
   "display_name": "Python 3",
   "language": "python",
   "name": "python3"
  },
  "language_info": {
   "codemirror_mode": {
    "name": "ipython",
    "version": 3
   },
   "file_extension": ".py",
   "mimetype": "text/x-python",
   "name": "python",
   "nbconvert_exporter": "python",
   "pygments_lexer": "ipython3",
   "version": "3.6.2"
  }
 },
 "nbformat": 4,
 "nbformat_minor": 2
}
