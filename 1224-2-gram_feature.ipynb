{
 "cells": [
  {
   "cell_type": "code",
   "execution_count": 2,
   "metadata": {},
   "outputs": [
    {
     "data": {
      "text/plain": [
       "400"
      ]
     },
     "execution_count": 2,
     "metadata": {},
     "output_type": "execute_result"
    }
   ],
   "source": [
    "amino_acid=\"ARNDCQEGHILKMFPSTWYV\"\n",
    "amino_acid2=[]\n",
    "for i in amino_acid:\n",
    "    for j in amino_acid:\n",
    "        amino_acid2.append(i+j)\n",
    "amino_acid2\n",
    "#len(amino_acid2)"
   ]
  },
  {
   "cell_type": "code",
   "execution_count": 14,
   "metadata": {},
   "outputs": [
    {
     "name": "stdout",
     "output_type": "stream",
     "text": [
      "ATFEIVNRCSYTVWAAASKGDAALDAGGRQLNSGESWTINVEPGTKGGKIWARTDCYFDDSGSGICKTGDCGGLLRCKRFGRPPTTLAEFSLNQYGKDYIDISNIKGFNVPMDFSPTTRGCRGVRCAADIVGQCPAKLKAPGGGCNDACTVFQTSEYCCTTGKCGPTEYSRFFKRLCPDAFSYVLDKPTTVTCPGSSNYRVTFCPTA\n"
     ]
    },
    {
     "data": {
      "text/plain": [
       "207"
      ]
     },
     "execution_count": 14,
     "metadata": {},
     "output_type": "execute_result"
    }
   ],
   "source": [
    "seq='''ATFEIVNRCSYTVWAAASKGDAALDAGGRQLNSGESWTINVEPGTKGGKIWARTDCYFDDSGSGICKTGDCGGLLRCKRFGRPPTTLAEFSLNQYGKDYIDISNIKGFNVPMDFSPTTRGCRGVRCAADIVGQCPAKLKAPGGGCNDACTVFQTSEYCCTTGKCGPTEYSRFFKRLCPDAFSYVLDKPTTVTCPGSSNYRVTFCPTA'''\n",
    "print(seq)\n",
    "len(seq)"
   ]
  },
  {
   "cell_type": "code",
   "execution_count": 23,
   "metadata": {
    "collapsed": true
   },
   "outputs": [],
   "source": [
    "from numpy import random\n",
    "def load_data(negative, positive):\n",
    "    returnval = []\n",
    "    with open(negative) as file1:\n",
    "        content2 = file1.read().replace(\"\\n\", \" \").split(\">\")\n",
    "        content = [a.split(\" \", 1) for a in content2]\n",
    "        for a in content[1:]:\n",
    "            if a != \"\" and a!= [\"\"] and a != []:\n",
    "                returnval.append([a[0], a[1].replace(\" \", \"\"), 0])\n",
    "    with open(positive) as file2:\n",
    "        content2 = file2.read().replace(\"\\n\", \" \").split(\">\")\n",
    "        content = [a.split(\" \", 1) for a in content2][:1000]\n",
    "        for a in content[1:]:\n",
    "            if a != \"\" and a != [\"\"] and a != []:\n",
    "                returnval.append([a[0], a[1].replace(\" \", \"\"), 1])\n",
    "    #random.shuffle(returnval,random.random)\n",
    "    return returnval"
   ]
  },
  {
   "cell_type": "code",
   "execution_count": 24,
   "metadata": {
    "collapsed": true
   },
   "outputs": [],
   "source": [
    "dataset = load_data(\"data/protein_neg.txt\",\"data/protein_pos.txt\")"
   ]
  },
  {
   "cell_type": "code",
   "execution_count": 26,
   "metadata": {
    "collapsed": true
   },
   "outputs": [],
   "source": [
    "import re\n",
    "def get_amino_acid_frequencies_2_gram(seq):\n",
    "    res = []\n",
    "    for base in amino_acid2:\n",
    "        reg = re.compile(\"(?=\"+base+\")\")\n",
    "        length = len(reg.findall(seq))\n",
    "        res.append(length/(len(seq)-1))\n",
    "    return res"
   ]
  },
  {
   "cell_type": "code",
   "execution_count": 27,
   "metadata": {
    "collapsed": true
   },
   "outputs": [],
   "source": [
    "import csv\n",
    "with open(\"feature_base/raw_data_all.csv\",\"r+\") as csvfile:\n",
    "    reader = csv.reader(csvfile)\n",
    "    for line in reader:\n",
    "        frequencies = get_amino_acid_frequencies_2_gram(line[1])\n",
    "        with open(\"feature_base/feature_amino_acid_freq_2_gram.csv\",\"a+\",newline='') as file:\n",
    "            writer = csv.writer(file)\n",
    "            writer.writerow(frequencies)"
   ]
  },
  {
   "cell_type": "code",
   "execution_count": null,
   "metadata": {
    "collapsed": true
   },
   "outputs": [],
   "source": []
  }
 ],
 "metadata": {
  "kernelspec": {
   "display_name": "Python 3",
   "language": "python",
   "name": "python3"
  },
  "language_info": {
   "codemirror_mode": {
    "name": "ipython",
    "version": 3
   },
   "file_extension": ".py",
   "mimetype": "text/x-python",
   "name": "python",
   "nbconvert_exporter": "python",
   "pygments_lexer": "ipython3",
   "version": "3.6.2"
  }
 },
 "nbformat": 4,
 "nbformat_minor": 2
}
