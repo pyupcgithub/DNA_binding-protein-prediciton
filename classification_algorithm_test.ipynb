{
 "cells": [
  {
   "cell_type": "code",
   "execution_count": 7,
   "metadata": {},
   "outputs": [],
   "source": [
    "import codecs\n",
    "from itertools import *\n",
    "import numpy as np\n",
    "from sklearn import svm\n",
    "from sklearn.linear_model import LogisticRegression\n",
    "from sklearn.naive_bayes import GaussianNB\n",
    "from sklearn import tree\n",
    "from sklearn import model_selection\n",
    "from sklearn.model_selection import train_test_split\n",
    "from sklearn.ensemble import GradientBoostingClassifier\n",
    "import xgboost as xgb\n",
    "from sklearn.ensemble import RandomForestClassifier\n",
    "import pylab as pl\n",
    "def load_data(filename):\n",
    "    file = codecs.open(filename,'r','utf-8')\n",
    "    data = []\n",
    "    label = []\n",
    "    for line in islice(file,0,None):\n",
    "        line = line.strip().split(',')\n",
    "        #print (\"reading data....\")\n",
    "        data.append([float(i) for i in line[1:-1]])\n",
    "        label.append(line[-1])\n",
    "    x = np.array(data)\n",
    "    y = np.array(label)\n",
    "    #print (x)\n",
    "    #print (y)\n",
    "    return x,y\n",
    "def logistic_regression(x_train,y_train):\n",
    "    print(\"logistic_regression...\")\n",
    "    clf1 = LogisticRegression()\n",
    "    score1 = model_selection.cross_val_score(clf1,x_train,y_train,cv=10,scoring=\"accuracy\")\n",
    "    x = [int(i) for i in range(1,11)]\n",
    "    y = score1\n",
    "    pl.ylabel(u'Accuracy')\n",
    "    pl.xlabel(u'times')\n",
    "    pl.plot(x,y,label='LogReg')\n",
    "    pl.legend()\n",
    "    #pl.savefig(\"picture/LogReg.png\")\n",
    "    print (np.mean(score1))\n",
    "def svm_(x_train,y_train):\n",
    "    print(\"svm...\")\n",
    "    clf2 = svm.LinearSVC(random_state=2016)\n",
    "    score2 = model_selection.cross_val_score(clf2,x_train,y_train,cv=10,scoring='accuracy')\n",
    "    #print score2\n",
    "    print ('The accuracy of linearSVM:')\n",
    "    print (np.mean(score2))\n",
    "    x = [int(i) for i in range(1, 11)]\n",
    "    y = score2\n",
    "    pl.ylabel(u'Accuracy')\n",
    "    pl.xlabel(u'times')\n",
    "    pl.plot(x, y,label='SVM')\n",
    "    pl.legend()\n",
    "    #pl.savefig(\"picture/SVM.png\")\n",
    "def gradient_boosting(x_train,y_train):\n",
    "    print(\"gradient_boosting...\")     \n",
    "    clf5 = GradientBoostingClassifier()\n",
    "    score5 = model_selection.cross_val_score(clf5,x_train,y_train,cv=10,scoring=\"accuracy\")\n",
    "    print ('The accuracy of GradientBoosting:')\n",
    "    print (np.mean(score5))\n",
    "    x = [int(i) for i in range(1, 11)]\n",
    "    y = score5\n",
    "    pl.ylabel(u'Accuracy')\n",
    "    pl.xlabel(u'times')\n",
    "    pl.plot(x, y,label='GBDT')\n",
    "    pl.legend()\n",
    "    #pl.savefig(\"picture/GBDT.png\")\n",
    "def xgb_boost(x_train,y_train):\n",
    "    print(\"xgboost....\")\n",
    "    clf = xgb.XGBClassifier()\n",
    "    score = model_selection.cross_val_score(clf,x_train,y_train,cv=10,scoring=\"accuracy\")\n",
    "    print ('The accuracy of XGBoosting:')\n",
    "    print (np.mean(score)) \n",
    "    x = [int(i) for i in range(1, 11)]\n",
    "    y = score\n",
    "    pl.ylabel(u'Accuracy')\n",
    "    pl.xlabel(u'times')\n",
    "    pl.plot(x, y,label='xgboost')\n",
    "    pl.legend()\n",
    "    #pl.savefig(\"picture/XGBoost.png\")\n",
    "def random_forest(x_train,y_train): \n",
    "    print(\"random_forest...\")        \n",
    "    clf = RandomForestClassifier(n_estimators=100)   \n",
    "    score = model_selection.cross_val_score(clf,x_train,y_train,cv=10,scoring=\"accuracy\")\n",
    "    print ('The accuracy of RandomForest:')\n",
    "    print (np.mean(score))\n",
    "    x = [int(i) for i in range(1, 11)]\n",
    "    y = score\n",
    "    pl.ylabel(u'Accuracy')\n",
    "    pl.xlabel(u'times')\n",
    "    pl.plot(x, y,label='RandForest')\n",
    "    pl.legend()\n",
    "    #pl.savefig(\"picture/RandomForest.png\")\n",
    "def train_acc(filename):\n",
    "    x_train,y_train = load_data(filename)\n",
    "    \n",
    "    logistic_regression(x_train,y_train)\n",
    "    \n",
    "    svm_(x_train,y_train)\n",
    "    \n",
    "    gradient_boosting(x_train,y_train)\n",
    "    \n",
    "    xgb_boost(x_train,y_train)\n",
    "    \n",
    "    random_forest(x_train,y_train)"
   ]
  },
  {
   "cell_type": "code",
   "execution_count": 8,
   "metadata": {},
   "outputs": [
    {
     "name": "stdout",
     "output_type": "stream",
     "text": [
      "logistic_regression...\n",
      "0.753132571824\n",
      "svm...\n",
      "The accuracy of linearSVM:\n",
      "0.760600553825\n",
      "gradient_boosting...\n",
      "The accuracy of GradientBoosting:\n",
      "0.780183454483\n",
      "xgboost....\n",
      "The accuracy of XGBoosting:\n",
      "0.769955001731\n",
      "random_forest...\n",
      "The accuracy of RandomForest:\n",
      "0.78769470405\n"
     ]
    }
   ],
   "source": [
    "train_acc(\"feature1227/feature_all_1227.csv\")"
   ]
  },
  {
   "cell_type": "code",
   "execution_count": 18,
   "metadata": {},
   "outputs": [
    {
     "name": "stdout",
     "output_type": "stream",
     "text": [
      "logistic_regression...\n",
      "0.756827622015\n",
      "svm...\n",
      "The accuracy of linearSVM:\n",
      "0.767990654206\n",
      "gradient_boosting...\n",
      "The accuracy of GradientBoosting:\n",
      "0.826773970232\n",
      "xgboost....\n",
      "The accuracy of XGBoosting:\n",
      "0.834207338179\n",
      "random_forest...\n",
      "The accuracy of RandomForest:\n",
      "0.79981827622\n"
     ]
    }
   ],
   "source": [
    "train_acc(\"features/feature_all_1223.csv\")"
   ]
  },
  {
   "cell_type": "code",
   "execution_count": 2,
   "metadata": {},
   "outputs": [
    {
     "name": "stdout",
     "output_type": "stream",
     "text": [
      "logistic_regression...\n",
      "0.57099342333\n",
      "svm...\n",
      "The accuracy of linearSVM:\n",
      "0.702942194531\n",
      "gradient_boosting...\n",
      "The accuracy of GradientBoosting:\n",
      "0.694565593631\n",
      "xgboost....\n",
      "The accuracy of XGBoosting:\n",
      "0.690827275874\n",
      "random_forest...\n",
      "The accuracy of RandomForest:\n",
      "0.686197646244\n"
     ]
    }
   ],
   "source": [
    "train_acc(\"features/feature_amino_acid_freq_2_gram.csv\")"
   ]
  },
  {
   "cell_type": "code",
   "execution_count": 4,
   "metadata": {},
   "outputs": [
    {
     "name": "stdout",
     "output_type": "stream",
     "text": [
      "logistic_regression...\n",
      "0.760531325718\n",
      "svm...\n",
      "The accuracy of linearSVM:\n",
      "0.768925233645\n",
      "gradient_boosting...\n",
      "The accuracy of GradientBoosting:\n",
      "0.832268951194\n",
      "xgboost....\n",
      "The accuracy of XGBoosting:\n",
      "0.829534440983\n",
      "random_forest...\n",
      "The accuracy of RandomForest:\n",
      "0.79604534441\n"
     ]
    }
   ],
   "source": [
    "train_acc(\"features/feature_all_1224.csv\")"
   ]
  },
  {
   "cell_type": "code",
   "execution_count": 6,
   "metadata": {},
   "outputs": [
    {
     "name": "stdout",
     "output_type": "stream",
     "text": [
      "logistic_regression...\n",
      "0.742912772586\n",
      "svm...\n",
      "The accuracy of linearSVM:\n",
      "0.780140186916\n",
      "gradient_boosting...\n",
      "The accuracy of GradientBoosting:\n",
      "0.817384908273\n",
      "xgboost....\n",
      "The accuracy of XGBoosting:\n",
      "0.816433021807\n",
      "random_forest...\n",
      "The accuracy of RandomForest:\n",
      "0.796028037383\n"
     ]
    }
   ],
   "source": [
    "train_acc(\"feature1224/feature_amino_acid_freq_2_gram&pssmDT.csv\")"
   ]
  },
  {
   "cell_type": "code",
   "execution_count": 7,
   "metadata": {},
   "outputs": [
    {
     "name": "stdout",
     "output_type": "stream",
     "text": [
      "logistic_regression...\n",
      "0.694530979578\n",
      "svm...\n",
      "The accuracy of linearSVM:\n",
      "0.777275874005\n",
      "gradient_boosting...\n",
      "The accuracy of GradientBoosting:\n",
      "0.80437002423\n",
      "xgboost....\n",
      "The accuracy of XGBoosting:\n",
      "0.805261336102\n",
      "random_forest...\n",
      "The accuracy of RandomForest:\n",
      "0.797810661128\n"
     ]
    }
   ],
   "source": [
    "train_acc(\"feature1224/feature_amino_acid_freq_2_gram&localDPP.csv\")"
   ]
  },
  {
   "cell_type": "code",
   "execution_count": 8,
   "metadata": {},
   "outputs": [
    {
     "name": "stdout",
     "output_type": "stream",
     "text": [
      "logistic_regression...\n",
      "0.751272066459\n",
      "svm...\n",
      "The accuracy of linearSVM:\n",
      "0.774567324334\n",
      "gradient_boosting...\n",
      "The accuracy of GradientBoosting:\n",
      "0.82109726549\n",
      "xgboost....\n",
      "The accuracy of XGBoosting:\n",
      "0.815524402908\n",
      "random_forest...\n",
      "The accuracy of RandomForest:\n",
      "0.796053997923\n"
     ]
    }
   ],
   "source": [
    "train_acc(\"feature1224/feature_amino_acid_freq_2_gram&pssmDT&localDPP.csv\")"
   ]
  },
  {
   "cell_type": "code",
   "execution_count": 10,
   "metadata": {},
   "outputs": [
    {
     "name": "stdout",
     "output_type": "stream",
     "text": [
      "logistic_regression...\n",
      "0.715048459675\n",
      "svm...\n",
      "The accuracy of linearSVM:\n",
      "0.727102803738\n",
      "gradient_boosting...\n",
      "The accuracy of GradientBoosting:\n",
      "0.708541017653\n",
      "xgboost....\n",
      "The accuracy of XGBoosting:\n",
      "0.717852197992\n",
      "random_forest...\n",
      "The accuracy of RandomForest:\n",
      "0.709389061959\n"
     ]
    }
   ],
   "source": [
    "train_acc(\"feature1224/feature_amino_acid_freq_2_gram&amino_acid.csv\")"
   ]
  },
  {
   "cell_type": "code",
   "execution_count": 11,
   "metadata": {
    "scrolled": true
   },
   "outputs": [
    {
     "name": "stdout",
     "output_type": "stream",
     "text": [
      "logistic_regression...\n",
      "0.511638975424\n",
      "svm...\n",
      "The accuracy of linearSVM:\n",
      "0.588655244029\n",
      "gradient_boosting...\n",
      "The accuracy of GradientBoosting:\n",
      "0.642557978539\n",
      "xgboost....\n",
      "The accuracy of XGBoosting:\n",
      "0.639736933195\n",
      "random_forest...\n",
      "The accuracy of RandomForest:\n",
      "0.63319487712\n"
     ]
    }
   ],
   "source": [
    "\n",
    "train_acc(\"feature1225/feature_amino_acid_freq_top_10.csv\")"
   ]
  },
  {
   "cell_type": "code",
   "execution_count": 2,
   "metadata": {},
   "outputs": [
    {
     "name": "stdout",
     "output_type": "stream",
     "text": [
      "logistic_regression...\n",
      "0.753097957771\n",
      "svm...\n",
      "The accuracy of linearSVM:\n",
      "0.775424022153\n",
      "gradient_boosting...\n",
      "The accuracy of GradientBoosting:\n",
      "0.834172724126\n",
      "xgboost....\n",
      "The accuracy of XGBoosting:\n",
      "0.835141917619\n",
      "random_forest...\n",
      "The accuracy of RandomForest:\n",
      "0.794184839045\n"
     ]
    }
   ],
   "source": [
    "train_acc(\"feature1225/feature_all_1225_1.csv\")"
   ]
  },
  {
   "cell_type": "code",
   "execution_count": 3,
   "metadata": {},
   "outputs": [
    {
     "name": "stdout",
     "output_type": "stream",
     "text": [
      "logistic_regression...\n",
      "0.753097957771\n",
      "svm...\n",
      "The accuracy of linearSVM:\n",
      "0.775424022153\n",
      "gradient_boosting...\n",
      "The accuracy of GradientBoosting:\n",
      "0.839797507788\n",
      "xgboost....\n",
      "The accuracy of XGBoosting:\n",
      "0.831394946348\n",
      "random_forest...\n",
      "The accuracy of RandomForest:\n",
      "0.783982346833\n"
     ]
    }
   ],
   "source": [
    "train_acc(\"feature1225/feature_all_1225_2.csv\")"
   ]
  },
  {
   "cell_type": "code",
   "execution_count": 6,
   "metadata": {},
   "outputs": [
    {
     "name": "stdout",
     "output_type": "stream",
     "text": [
      "logistic_regression...\n",
      "0.511638975424\n",
      "svm...\n",
      "The accuracy of linearSVM:\n",
      "0.511638975424\n",
      "gradient_boosting...\n",
      "The accuracy of GradientBoosting:\n",
      "0.719738663898\n",
      "xgboost....\n",
      "The accuracy of XGBoosting:\n",
      "0.72073381793\n",
      "random_forest...\n",
      "The accuracy of RandomForest:\n",
      "0.712365870543\n"
     ]
    }
   ],
   "source": [
    "train_acc(\"feature1225/feature_ACC_1225.csv\")"
   ]
  },
  {
   "cell_type": "code",
   "execution_count": 8,
   "metadata": {},
   "outputs": [
    {
     "name": "stdout",
     "output_type": "stream",
     "text": [
      "logistic_regression...\n",
      "0.753097957771\n",
      "svm...\n",
      "The accuracy of linearSVM:\n",
      "0.775424022153\n",
      "gradient_boosting...\n",
      "The accuracy of GradientBoosting:\n",
      "0.838862928349\n",
      "xgboost....\n",
      "The accuracy of XGBoosting:\n",
      "0.831394946348\n",
      "random_forest...\n",
      "The accuracy of RandomForest:\n",
      "0.793241606092\n"
     ]
    }
   ],
   "source": [
    "train_acc(\"final1225/feature_all.csv\")"
   ]
  },
  {
   "cell_type": "code",
   "execution_count": 2,
   "metadata": {},
   "outputs": [
    {
     "name": "stdout",
     "output_type": "stream",
     "text": [
      "logistic_regression...\n",
      "0.746642436829\n",
      "svm...\n",
      "The accuracy of linearSVM:\n",
      "0.770829006577\n",
      "gradient_boosting...\n",
      "The accuracy of GradientBoosting:\n",
      "0.78766874351\n",
      "xgboost....\n",
      "The accuracy of XGBoosting:\n",
      "0.781178608515\n",
      "random_forest...\n",
      "The accuracy of RandomForest:\n",
      "0.797014537902\n"
     ]
    }
   ],
   "source": [
    "train_acc(\"predict1226_2/feature_all.csv\")"
   ]
  },
  {
   "cell_type": "code",
   "execution_count": 6,
   "metadata": {},
   "outputs": [
    {
     "data": {
      "text/plain": [
       "['predict1226_2/rf.model']"
      ]
     },
     "execution_count": 6,
     "metadata": {},
     "output_type": "execute_result"
    }
   ],
   "source": [
    "from sklearn.externals import joblib\n",
    "x,y = load_data(\"predict1226_2/feature_all.csv\")\n",
    "rf = RandomForestClassifier(n_estimators=100) \n",
    "rf.fit(x,y)\n",
    "joblib.dump(rf,\"predict1226_2/rf.model\")\n",
    "#y_pred = rf.predict(x)\n",
    "#y_preprob = rf.predict_proba(x)[:,1]\n",
    "#print (y_pred)  \n",
    "#print (y_preprob)"
   ]
  },
  {
   "cell_type": "code",
   "execution_count": null,
   "metadata": {
    "collapsed": true
   },
   "outputs": [],
   "source": [
    "from sklearn.externals import joblib\n",
    "x,y = load_data(\"predict1226_2/feature_all.csv\")\n",
    "rf = RandomForestClassifier(n_estimators=100) \n",
    "rf.fit(x,y)\n",
    "joblib.dump(rf,\"predict1226_2/rf.model\")"
   ]
  }
 ],
 "metadata": {
  "kernelspec": {
   "display_name": "Python 3",
   "language": "python",
   "name": "python3"
  },
  "language_info": {
   "codemirror_mode": {
    "name": "ipython",
    "version": 3
   },
   "file_extension": ".py",
   "mimetype": "text/x-python",
   "name": "python",
   "nbconvert_exporter": "python",
   "pygments_lexer": "ipython3",
   "version": "3.6.2"
  }
 },
 "nbformat": 4,
 "nbformat_minor": 2
}
